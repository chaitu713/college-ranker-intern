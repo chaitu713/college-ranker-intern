{
  "nbformat": 4,
  "nbformat_minor": 0,
  "metadata": {
    "colab": {
      "provenance": [],
      "include_colab_link": true
    },
    "kernelspec": {
      "name": "python3",
      "display_name": "Python 3"
    },
    "language_info": {
      "name": "python"
    }
  },
  "cells": [
    {
      "cell_type": "markdown",
      "metadata": {
        "id": "view-in-github",
        "colab_type": "text"
      },
      "source": [
        "<a href=\"https://colab.research.google.com/github/chaitu713/college-ranker-intern/blob/master/Python_Basics_Day_1.ipynb\" target=\"_parent\"><img src=\"https://colab.research.google.com/assets/colab-badge.svg\" alt=\"Open In Colab\"/></a>"
      ]
    },
    {
      "cell_type": "markdown",
      "source": [
        "**Python Basic Terms**\n",
        "\n",
        "\n",
        "*   Syntax (Valid & Invalid)\n",
        "*   Comments\n",
        "\n"
      ],
      "metadata": {
        "id": "vTsmuXI7j0NM"
      }
    },
    {
      "cell_type": "code",
      "source": [
        "name = 'Chaitanya'    # This is my name\n",
        "print(name)"
      ],
      "metadata": {
        "id": "gV8N7PgBhy5e",
        "colab": {
          "base_uri": "https://localhost:8080/"
        },
        "outputId": "814f3a47-7904-46d3-9b54-9f2374d8aa21"
      },
      "execution_count": 2,
      "outputs": [
        {
          "output_type": "stream",
          "name": "stdout",
          "text": [
            "Chaitanya\n"
          ]
        }
      ]
    },
    {
      "cell_type": "code",
      "source": [
        "#This is comment"
      ],
      "metadata": {
        "id": "R6sejPXzhzFx"
      },
      "execution_count": 3,
      "outputs": []
    },
    {
      "cell_type": "markdown",
      "source": [
        "**Python Data Types:** \n",
        " - ***Primitive DataTypes:***\n",
        "   - Integer, Float, Boolean, String, None\n",
        " - ***Containers:***\n",
        "   - List, Tuple, Dictionary"
      ],
      "metadata": {
        "id": "WwQaKSS2AE6f"
      }
    },
    {
      "cell_type": "markdown",
      "source": [
        "**Python Data Types, Type Casting & Variables**\n",
        "\n",
        "\n",
        "*   **Text Type:**\tstr\n",
        "*   **Numeric Types:**\tint, float\n",
        "*   **Sequence Types:**\tlist, tuple, range\n",
        "*   **Mapping Type:**\tdict\n",
        "*   **Set Types:**\tset\n",
        "*   **Boolean Type:**\tbool\n",
        "\n",
        "\n"
      ],
      "metadata": {
        "id": "W_B3PupFt5B6"
      }
    },
    {
      "cell_type": "code",
      "source": [
        "student1 = ('Rishika', 21, 90.2)    # Cannot modify it\n",
        "student2 = ['Rishika', 21, 90.2]    # Can modify it\n",
        "student3 = {'Rishika', 21, 90.2}    # Random Output"
      ],
      "metadata": {
        "id": "1Z6vCUpft539"
      },
      "execution_count": 4,
      "outputs": []
    },
    {
      "cell_type": "code",
      "source": [
        "type(student3)"
      ],
      "metadata": {
        "colab": {
          "base_uri": "https://localhost:8080/"
        },
        "id": "CF60KB5Ibg3X",
        "outputId": "cf6f25b7-89fa-4957-8104-f9aa2796e884"
      },
      "execution_count": null,
      "outputs": [
        {
          "output_type": "execute_result",
          "data": {
            "text/plain": [
              "set"
            ]
          },
          "metadata": {},
          "execution_count": 47
        }
      ]
    },
    {
      "cell_type": "code",
      "source": [
        "student1"
      ],
      "metadata": {
        "id": "ZP4pDx4ABD6s",
        "outputId": "3af657e2-dbd5-4f69-e974-569896b3eab3",
        "colab": {
          "base_uri": "https://localhost:8080/"
        }
      },
      "execution_count": 10,
      "outputs": [
        {
          "output_type": "execute_result",
          "data": {
            "text/plain": [
              "('Rishika', 21, 90.2)"
            ]
          },
          "metadata": {},
          "execution_count": 10
        }
      ]
    },
    {
      "cell_type": "code",
      "source": [
        "student2"
      ],
      "metadata": {
        "id": "C_iPP0_cBBuS",
        "outputId": "2906db4c-bd4d-4bb2-f886-1ffe98db5537",
        "colab": {
          "base_uri": "https://localhost:8080/"
        }
      },
      "execution_count": 9,
      "outputs": [
        {
          "output_type": "execute_result",
          "data": {
            "text/plain": [
              "['Rishika', 21, 90.2]"
            ]
          },
          "metadata": {},
          "execution_count": 9
        }
      ]
    },
    {
      "cell_type": "code",
      "source": [
        "student3"
      ],
      "metadata": {
        "id": "hRoWCVlIA75v",
        "outputId": "4ce5d8e0-fb93-4704-de18-bce4eea1e868",
        "colab": {
          "base_uri": "https://localhost:8080/"
        }
      },
      "execution_count": 8,
      "outputs": [
        {
          "output_type": "execute_result",
          "data": {
            "text/plain": [
              "{21, 90.2, 'Rishika'}"
            ]
          },
          "metadata": {},
          "execution_count": 8
        }
      ]
    },
    {
      "cell_type": "code",
      "source": [
        "student = {'Name':'Rishika', 'Age': 21, 'Percent':90.2}"
      ],
      "metadata": {
        "id": "JWNv8oJFwr1h"
      },
      "execution_count": 5,
      "outputs": []
    },
    {
      "cell_type": "code",
      "source": [
        "student"
      ],
      "metadata": {
        "id": "3nuAw8ixA4rN",
        "outputId": "c0ce5824-4994-4e9b-a081-3bc5d976d7ee",
        "colab": {
          "base_uri": "https://localhost:8080/"
        }
      },
      "execution_count": 6,
      "outputs": [
        {
          "output_type": "execute_result",
          "data": {
            "text/plain": [
              "{'Name': 'Rishika', 'Age': 21, 'Percent': 90.2}"
            ]
          },
          "metadata": {},
          "execution_count": 6
        }
      ]
    },
    {
      "cell_type": "code",
      "source": [
        "bool(0)"
      ],
      "metadata": {
        "colab": {
          "base_uri": "https://localhost:8080/"
        },
        "id": "1jSqcl2MNfCY",
        "outputId": "712a0bef-f23d-4d55-f2f3-97e733fd45f2"
      },
      "execution_count": 11,
      "outputs": [
        {
          "output_type": "execute_result",
          "data": {
            "text/plain": [
              "False"
            ]
          },
          "metadata": {},
          "execution_count": 11
        }
      ]
    },
    {
      "cell_type": "code",
      "source": [
        "bool(1)"
      ],
      "metadata": {
        "id": "C38yjp4ww6uO",
        "outputId": "68e6fc79-0cc5-42b0-cdcb-3c5f9611f356",
        "colab": {
          "base_uri": "https://localhost:8080/"
        }
      },
      "execution_count": 12,
      "outputs": [
        {
          "output_type": "execute_result",
          "data": {
            "text/plain": [
              "True"
            ]
          },
          "metadata": {},
          "execution_count": 12
        }
      ]
    },
    {
      "cell_type": "markdown",
      "source": [
        "**Python Operators**\n",
        "\n",
        "*   Arithmetic operators\n",
        "*   Assignment operators\n",
        "*   Comparison operators\n",
        "*   Logical operators\n",
        "*   Membership operators"
      ],
      "metadata": {
        "id": "CUMJaslIw7qD"
      }
    },
    {
      "cell_type": "code",
      "source": [
        "# Arithmetic Operators (+,-,*,/,%,**)                        # Used with numeric values to perform common mathematical operations\n",
        "\n",
        "x = 5\n",
        "y = 8\n",
        "\n",
        "print(x+y, x-y, x*y, x/y, x//y, x%y, x**y)"
      ],
      "metadata": {
        "id": "ZBFXMVCw6if9",
        "colab": {
          "base_uri": "https://localhost:8080/"
        },
        "outputId": "8d54a010-0917-4c8b-ab5d-f5f24e1a68eb"
      },
      "execution_count": 14,
      "outputs": [
        {
          "output_type": "stream",
          "name": "stdout",
          "text": [
            "13 -3 40 0.625 0 5 390625\n"
          ]
        }
      ]
    },
    {
      "cell_type": "code",
      "source": [
        "# Assignment Operators (=,+=,-=,*=,/=,%=,**=)                # Used to assign values to variables\n",
        "\n",
        "x, y = 5, 8\n",
        "\n",
        "# print(x = y, x += y, x -= y, x *= y, x %= y, x /= y, x **= y)\n",
        "\n",
        "x -= y       # x = x - y\n",
        "x *= y       # x = x * y\n"
      ],
      "metadata": {
        "id": "9CUNVhBD6iiO"
      },
      "execution_count": 15,
      "outputs": []
    },
    {
      "cell_type": "code",
      "source": [
        "# Comparison Operators (==,!=,<,>,<=,>=)                     # Used to compare two values\n",
        "\n",
        "# print(x == y, x != y, x < y, x > y, x <= y, x >= y)\n",
        "x, y = 5, 8\n",
        "\n",
        "x > y "
      ],
      "metadata": {
        "id": "mO9KdpFt6ikP",
        "colab": {
          "base_uri": "https://localhost:8080/"
        },
        "outputId": "df30a62d-502a-4333-92c8-81ecae2e1bda"
      },
      "execution_count": 16,
      "outputs": [
        {
          "output_type": "execute_result",
          "data": {
            "text/plain": [
              "False"
            ]
          },
          "metadata": {},
          "execution_count": 16
        }
      ]
    },
    {
      "cell_type": "code",
      "source": [
        "# Logical Operators (==,!=,<,>,<=,>=)                        # Used to combine conditional statements\n",
        "\n",
        "# print(x and y, x or y, not y)\n",
        "\n",
        "not((x < y) or (x == y))\n",
        "# (x < y) or (x == y)"
      ],
      "metadata": {
        "id": "ARZIC6W46iml",
        "colab": {
          "base_uri": "https://localhost:8080/"
        },
        "outputId": "3be79770-9086-4ed6-bdb8-4289507ccc5c"
      },
      "execution_count": null,
      "outputs": [
        {
          "output_type": "execute_result",
          "data": {
            "text/plain": [
              "False"
            ]
          },
          "metadata": {},
          "execution_count": 52
        }
      ]
    },
    {
      "cell_type": "code",
      "source": [
        "# Membership Operators (==,!=,<,>,<=,>=)                     # Used to test if a sequence is presented in an object\n",
        "\n",
        "# print(x in y, x not in y)\n",
        "\n",
        "x = [1,2,3,4,5]\n",
        "y = 6\n",
        "\n",
        "y not in x"
      ],
      "metadata": {
        "id": "0ZpytLZ06iq8",
        "colab": {
          "base_uri": "https://localhost:8080/"
        },
        "outputId": "6c962624-fef2-4da2-af22-4d0672cc21f1"
      },
      "execution_count": 17,
      "outputs": [
        {
          "output_type": "execute_result",
          "data": {
            "text/plain": [
              "True"
            ]
          },
          "metadata": {},
          "execution_count": 17
        }
      ]
    },
    {
      "cell_type": "code",
      "source": [],
      "metadata": {
        "id": "8o6nVYUc6is-"
      },
      "execution_count": null,
      "outputs": []
    },
    {
      "cell_type": "code",
      "source": [],
      "metadata": {
        "id": "1B_tJlgG6iu4"
      },
      "execution_count": null,
      "outputs": []
    }
  ]
}