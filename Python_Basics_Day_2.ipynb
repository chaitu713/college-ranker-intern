{
  "nbformat": 4,
  "nbformat_minor": 0,
  "metadata": {
    "colab": {
      "provenance": [],
      "include_colab_link": true
    },
    "kernelspec": {
      "name": "python3",
      "display_name": "Python 3"
    },
    "language_info": {
      "name": "python"
    }
  },
  "cells": [
    {
      "cell_type": "markdown",
      "metadata": {
        "id": "view-in-github",
        "colab_type": "text"
      },
      "source": [
        "<a href=\"https://colab.research.google.com/github/chaitu713/college-ranker-intern/blob/master/Python_Basics_Day_2.ipynb\" target=\"_parent\"><img src=\"https://colab.research.google.com/assets/colab-badge.svg\" alt=\"Open In Colab\"/></a>"
      ]
    },
    {
      "cell_type": "markdown",
      "source": [
        "\n",
        "# List and it's Methods\n",
        "\n",
        "Lists are used to store multiple items in a single variable.\n",
        "\n",
        "*   Lists are used to store multiple items in a single variable.\n",
        "*   It is a collection which is ordered, changeable and allows duplicate members.\n",
        "\n",
        "**List Methods**\n",
        "\n",
        "\n",
        "append(), sort(), reverse(), remove(), pop(), insert(), index(), extend(), count(), copy(), clear()\n",
        "\n",
        "\n",
        "\n",
        "\n",
        "\n"
      ],
      "metadata": {
        "id": "1P1jdwht7AjD"
      }
    },
    {
      "cell_type": "code",
      "source": [
        "fruits = ['apple', 'cherrry', 'banana']\n",
        "\n",
        "fruits.append(\"orange\")\n",
        "fruits.sort()\n",
        "fruits.reverse()\n",
        "fruits.remove(\"banana\")\n",
        "fruits.pop(1)\n",
        "fruits.insert(1, \"watermelon\")\n",
        "fruits.index(\"watermelon\")\n",
        "\n",
        "others = ['pineapple', 'strawaberry', 'guava','cherry','pineapple']\n",
        "\n",
        "fruits.extend(others)\n",
        "fruits.count(\"pineapple\")\n",
        "fruits.copy()\n",
        "fruits.clear()"
      ],
      "metadata": {
        "id": "9ks2pSF96rTZ"
      },
      "execution_count": 2,
      "outputs": []
    },
    {
      "cell_type": "code",
      "source": [
        "fruits"
      ],
      "metadata": {
        "id": "48CrCwoH6rW0",
        "colab": {
          "base_uri": "https://localhost:8080/"
        },
        "outputId": "7aa0f11a-95fb-4126-e447-a0123ad73dab"
      },
      "execution_count": 3,
      "outputs": [
        {
          "output_type": "execute_result",
          "data": {
            "text/plain": [
              "[]"
            ]
          },
          "metadata": {},
          "execution_count": 3
        }
      ]
    },
    {
      "cell_type": "code",
      "source": [],
      "metadata": {
        "id": "HXZXeG5vgEoR"
      },
      "execution_count": null,
      "outputs": []
    },
    {
      "cell_type": "markdown",
      "source": [
        "# String and it's Methods\n",
        "\n",
        "*   All string methods returns new values. They do not change the original string.\n",
        "\n",
        "**String Methods**\n",
        "\n",
        "\n",
        "*   isalpha(), isalnum(), index(), find(), count(), capitalize(), isdigit(), islower(), isnumeric()\n",
        "*   endswith(), upper(), title(), swapcase(), strip(), startswith(), split(), join(), lower(), replace()"
      ],
      "metadata": {
        "id": "1CeUtg8TA_jj"
      }
    },
    {
      "cell_type": "code",
      "source": [
        "txt = \"hello, and welcome to our course.\"\n",
        "a = txt.capitalize()\n",
        "print(a)\n",
        "\n",
        "txt = \"I am from India and born in Maharashtra, India\"\n",
        "b = txt.count(\"India\")\n",
        "print(b)\n",
        "\n",
        "txt = \"I love apples, apple are my favorite fruit\"\n",
        "c = txt.find(\"banana\")\n",
        "print(c)\n",
        "\n",
        "d = txt.index(\"apple\")\n",
        "print(d)\n",
        "\n",
        "txt = \"hello, my name is Peter, I am 26 years old\"\n",
        "e = txt.split(', ')\n",
        "print(e)"
      ],
      "metadata": {
        "id": "cgSVsDxU6rc8",
        "outputId": "4b71b581-c1de-4a63-9909-57ae25db904a",
        "colab": {
          "base_uri": "https://localhost:8080/"
        }
      },
      "execution_count": 8,
      "outputs": [
        {
          "output_type": "stream",
          "name": "stdout",
          "text": [
            "Hello, and welcome to our course.\n",
            "2\n",
            "-1\n",
            "7\n",
            "['hello', 'my name is Peter', 'I am 26 years old']\n"
          ]
        }
      ]
    },
    {
      "cell_type": "code",
      "source": [
        "txt = \"Company12\"\n",
        "name = txt.isalnum()\n",
        "print(name)\n",
        "\n",
        "txt = \"Company\"\n",
        "alpha = txt.isalpha()\n",
        "print(alpha)\n",
        "\n",
        "txt = '50800'\n",
        "num = txt.isdigit()\n",
        "print(num)\n",
        "\n",
        "names = [\"John\", \"Peter\", \"Vicky\"]\n",
        "joined = \"_\".join(names)\n",
        "print(joined)\n",
        "\n",
        "txt = \"I love sports\"\n",
        "result = txt.replace(\"sports\", \"cricket\")\n",
        "print(result)"
      ],
      "metadata": {
        "id": "4wPE9X9y6rte",
        "outputId": "47c977b5-aafa-417f-cb03-d60274a78bdc",
        "colab": {
          "base_uri": "https://localhost:8080/"
        }
      },
      "execution_count": 13,
      "outputs": [
        {
          "output_type": "stream",
          "name": "stdout",
          "text": [
            "True\n",
            "True\n",
            "True\n",
            "John_Peter_Vicky\n",
            "I love cricket\n"
          ]
        }
      ]
    },
    {
      "cell_type": "code",
      "source": [
        "txt = \"Hello, welcome to my world.\"\n",
        "start = txt.startswith(\"welcome\")\n",
        "end = txt.endswith(\"?\")"
      ],
      "metadata": {
        "id": "y6bq81tA6rxJ"
      },
      "execution_count": 14,
      "outputs": []
    },
    {
      "cell_type": "code",
      "source": [
        "start, end"
      ],
      "metadata": {
        "id": "GyjuncKD6r5u",
        "colab": {
          "base_uri": "https://localhost:8080/"
        },
        "outputId": "d6832669-469e-4063-a14d-069a5d0dcc5a"
      },
      "execution_count": 15,
      "outputs": [
        {
          "output_type": "execute_result",
          "data": {
            "text/plain": [
              "(False, False)"
            ]
          },
          "metadata": {},
          "execution_count": 15
        }
      ]
    },
    {
      "cell_type": "code",
      "source": [],
      "metadata": {
        "id": "0_luCZIk6r9W"
      },
      "execution_count": null,
      "outputs": []
    },
    {
      "cell_type": "markdown",
      "source": [
        "# Python Conditional Statements\n",
        "\n",
        "\n",
        "*   If , elif, else statements"
      ],
      "metadata": {
        "id": "wjgI26BME9Qc"
      }
    },
    {
      "cell_type": "code",
      "source": [
        "a , b = 33 , 200\n",
        "\n",
        "# print(b>a)\n",
        "\n",
        "if b > a:\n",
        "  print(\"b is greater than a\")"
      ],
      "metadata": {
        "colab": {
          "base_uri": "https://localhost:8080/"
        },
        "id": "qwjEKo2TE7sj",
        "outputId": "10155054-cd5a-4199-a5a2-0a7f50b20e48"
      },
      "execution_count": 16,
      "outputs": [
        {
          "output_type": "stream",
          "name": "stdout",
          "text": [
            "b is greater than a\n"
          ]
        }
      ]
    },
    {
      "cell_type": "code",
      "source": [
        "aman , vinod = 80 , 50\n",
        "\n",
        "if vinod > aman:\n",
        "  print(\"vinod scores greater than aman\")\n",
        "elif aman == vinod:\n",
        "  print(\"Both scores equally\")"
      ],
      "metadata": {
        "id": "p1umnfvmE7uk"
      },
      "execution_count": 17,
      "outputs": []
    },
    {
      "cell_type": "code",
      "source": [
        "if vinod > aman:\n",
        "  print(\"vinod scores greater than aman\")\n",
        "elif aman == vinod:\n",
        "  print(\"Both scores equally\")\n",
        "else:\n",
        "  print('aman scores greater than vinod')"
      ],
      "metadata": {
        "colab": {
          "base_uri": "https://localhost:8080/"
        },
        "id": "bzcR9vgGE7wq",
        "outputId": "74979e77-ca6e-4d29-a5a4-1f0756cc6f06"
      },
      "execution_count": 18,
      "outputs": [
        {
          "output_type": "stream",
          "name": "stdout",
          "text": [
            "aman scores greater than vinod\n"
          ]
        }
      ]
    },
    {
      "cell_type": "code",
      "source": [
        "marks = 28\n",
        "\n",
        "if marks > 35:\n",
        "  print(\"He is Pass\")\n",
        "  if marks > 60:\n",
        "    print(\"He is in Distinction\")\n",
        "  else:\n",
        "    print(\"He is in Mid Range\")\n",
        "else:\n",
        "  print('Sadly, He is Fail')"
      ],
      "metadata": {
        "colab": {
          "base_uri": "https://localhost:8080/"
        },
        "id": "Wqb480gBE7yq",
        "outputId": "d46b9ea5-7528-4ef4-ec7d-7a0cb509a564"
      },
      "execution_count": 19,
      "outputs": [
        {
          "output_type": "stream",
          "name": "stdout",
          "text": [
            "Sadly, He is Fail\n"
          ]
        }
      ]
    },
    {
      "cell_type": "code",
      "source": [],
      "metadata": {
        "id": "6uCvQvgBE8ES"
      },
      "execution_count": null,
      "outputs": []
    },
    {
      "cell_type": "code",
      "source": [],
      "metadata": {
        "id": "Q9EVE0q2E8GE"
      },
      "execution_count": null,
      "outputs": []
    }
  ]
}